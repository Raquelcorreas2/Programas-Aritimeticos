{
  "nbformat": 4,
  "nbformat_minor": 0,
  "metadata": {
    "colab": {
      "provenance": [],
      "toc_visible": true,
      "mount_file_id": "1qPOUrcUjkFjbgMRnxB-AXjcrCtyw2HYb",
      "authorship_tag": "ABX9TyN9Tf0ZvA9qcsew7Mh37ewm",
      "include_colab_link": true
    },
    "kernelspec": {
      "name": "python3",
      "display_name": "Python 3"
    },
    "language_info": {
      "name": "python"
    }
  },
  "cells": [
    {
      "cell_type": "markdown",
      "metadata": {
        "id": "view-in-github",
        "colab_type": "text"
      },
      "source": [
        "<a href=\"https://colab.research.google.com/github/Raquelcorreas2/Programas-Aritimeticos/blob/master/AULA_3%09Algoritmos_sequenciais_Estruturas_de_sele%C3%A7%C3%A3o_ou_decis%C3%A3o.ipynb\" target=\"_parent\"><img src=\"https://colab.research.google.com/assets/colab-badge.svg\" alt=\"Open In Colab\"/></a>"
      ]
    },
    {
      "cell_type": "markdown",
      "source": [
        "# Tema 2 - Condicional simples e comporta"
      ],
      "metadata": {
        "id": "bUVPwaUebJDw"
      }
    },
    {
      "cell_type": "markdown",
      "source": [
        "# Condicional Simples"
      ],
      "metadata": {
        "id": "lfFCAl2-fxri"
      }
    },
    {
      "cell_type": "markdown",
      "source": [],
      "metadata": {
        "id": "JKprIlm3Xa3D"
      }
    },
    {
      "cell_type": "code",
      "source": [
        "## ler dois números inteiros e comparar para saber se um é maior que o outro\n",
        "## Código feito por mim:\n",
        "n1 = int(input('Digite um valor: '))\n",
        "n2 = int(input('Digite outro valor: '))\n",
        "\n",
        "if (n1 > n2):\n",
        "  print('O número {} é maior que {}' .format(n1, n2))\n",
        "else:\n",
        "  print('O número {} é menor que {}' .format(n1, n2))\n",
        " \n",
        "\n",
        "\n"
      ],
      "metadata": {
        "colab": {
          "base_uri": "https://localhost:8080/"
        },
        "id": "F94kHeu1bOUc",
        "outputId": "aef68022-3e05-4bc3-b4db-b922381e9da5"
      },
      "execution_count": 2,
      "outputs": [
        {
          "output_type": "stream",
          "name": "stdout",
          "text": [
            "Digite um valor: 5\n",
            "Digite outro valor: 10\n",
            "O número 5 é menor que 10\n"
          ]
        }
      ]
    },
    {
      "cell_type": "code",
      "source": [
        "## Código do professor:\n",
        "x = int(input('Digite um valor inteiro: '))\n",
        "y = int(input('Digite um segundo valor inteiro: '))\n",
        "\n",
        "if (x > y):\n",
        "  print('O número {} é maior que {}' .format(x, y))\n",
        "\n",
        "## Ele não colocou 'else' porque é uma condicional simples, onde o (fim) não se coloca ele pula ## \n"
      ],
      "metadata": {
        "id": "tNDmX-oPcUZV"
      },
      "execution_count": null,
      "outputs": []
    },
    {
      "cell_type": "markdown",
      "source": [
        "# Condicional Composta"
      ],
      "metadata": {
        "id": "33AJli3Mc9KR"
      }
    },
    {
      "cell_type": "code",
      "source": [
        "## Código feito por mim\n",
        "## Ler um valor inteiro e determinar se ele é par ou impar\n",
        "x = int(input('Digite um valor inteiro: '))\n",
        "\n",
        "if (x % 2 == 0):   ## O percentual % é o resto da divisão (Se x dividido por 2 restar 0 é par) ##\n",
        "  print('Esse número é par')\n",
        "else:\n",
        "  print('Esse número é impar')  \n"
      ],
      "metadata": {
        "colab": {
          "base_uri": "https://localhost:8080/"
        },
        "id": "a1XMWWY0d9xp",
        "outputId": "a4ebc9b7-c1d5-4be7-cb3b-b0ff765f0be2"
      },
      "execution_count": 3,
      "outputs": [
        {
          "output_type": "stream",
          "name": "stdout",
          "text": [
            "Digite um valor inteiro: 3\n",
            "Esse número é impar\n"
          ]
        }
      ]
    },
    {
      "cell_type": "markdown",
      "source": [
        "# Tema 3 - Espressões lógicas e algebra booleana"
      ],
      "metadata": {
        "id": "KqrP5t4ffnHf"
      }
    },
    {
      "cell_type": "markdown",
      "source": [
        "# Operadores lógicos booleanos"
      ],
      "metadata": {
        "id": "7uHqSoUhhQTC"
      }
    },
    {
      "cell_type": "code",
      "source": [
        "# Not\n",
        "# Se um resultado verdadeiro for not verdadeiro = Falso \n",
        "# Se um resultado falso for not false = Verdadeiro\n",
        "x = True\n",
        "y = False\n",
        "\n",
        "print(not x)\n",
        "print(not y)"
      ],
      "metadata": {
        "colab": {
          "base_uri": "https://localhost:8080/"
        },
        "id": "0hcChBnQhUn5",
        "outputId": "8a93ec82-c2ba-44b4-9050-7082c7a68bc1"
      },
      "execution_count": 4,
      "outputs": [
        {
          "output_type": "stream",
          "name": "stdout",
          "text": [
            "False\n",
            "True\n"
          ]
        }
      ]
    },
    {
      "cell_type": "code",
      "source": [
        "# And\n",
        "# O And só dará verdadeiro se as duas entradas foram verdadeiros, o resto é falso.\n",
        "\n",
        "x = True\n",
        "y = False\n",
        "\n",
        "print(x and y)"
      ],
      "metadata": {
        "colab": {
          "base_uri": "https://localhost:8080/"
        },
        "id": "ee8ue8Vzhj-o",
        "outputId": "cdd79f82-cdcc-481f-b187-c77e12318a4c"
      },
      "execution_count": 5,
      "outputs": [
        {
          "output_type": "stream",
          "name": "stdout",
          "text": [
            "False\n"
          ]
        }
      ]
    },
    {
      "cell_type": "code",
      "source": [
        "# Or\n",
        "# O Or só dará falso, se ambos os resultados forem falsos, o resto é verdadeiro.\n",
        "\n",
        "x = True\n",
        "y = False\n",
        "\n",
        "print(x or y)"
      ],
      "metadata": {
        "colab": {
          "base_uri": "https://localhost:8080/"
        },
        "id": "echsYEqhiJJx",
        "outputId": "604f6daa-1a32-44e7-d029-5c472f8c146e"
      },
      "execution_count": 6,
      "outputs": [
        {
          "output_type": "stream",
          "name": "stdout",
          "text": [
            "True\n"
          ]
        }
      ]
    },
    {
      "cell_type": "markdown",
      "source": [
        "# Expressões lógicas booleanas"
      ],
      "metadata": {
        "id": "8VUb95dxjV3Z"
      }
    },
    {
      "cell_type": "code",
      "source": [
        "x = 10\n",
        "y = 1\n",
        "res = not x > y\n",
        "print(res)\n"
      ],
      "metadata": {
        "colab": {
          "base_uri": "https://localhost:8080/"
        },
        "id": "kcASkPVZjj0r",
        "outputId": "ac1c930d-7c1f-432c-9783-390d8373b99f"
      },
      "execution_count": 7,
      "outputs": [
        {
          "output_type": "stream",
          "name": "stdout",
          "text": [
            "False\n"
          ]
        }
      ]
    },
    {
      "cell_type": "code",
      "source": [
        "x = 10\n",
        "y = 1\n",
        "z = 5.5\n",
        "res = x > y and z == y \n",
        "print(res)"
      ],
      "metadata": {
        "colab": {
          "base_uri": "https://localhost:8080/"
        },
        "id": "n9C4o_Otjvr3",
        "outputId": "9d355abd-cef8-4f95-ee3a-490508c7f1ef"
      },
      "execution_count": 8,
      "outputs": [
        {
          "output_type": "stream",
          "name": "stdout",
          "text": [
            "False\n"
          ]
        }
      ]
    },
    {
      "cell_type": "markdown",
      "source": [
        "# Exercício"
      ],
      "metadata": {
        "id": "6vlK_w-2k8TO"
      }
    },
    {
      "cell_type": "code",
      "source": [
        "## Ler 3 notas finais do aluno e calcular se ele passou ou não\n",
        "## Meu Código:\n",
        "## Errei porque cada matéria ele precisa tirar 7 e não a média!!\n",
        "\n",
        "nota1 = float(input('Nota da matéria 1: '))\n",
        "nota2 = float(input('Nota da matéria 2: '))\n",
        "nota3 = float(input('Nota da matéria 3: '))\n",
        "\n",
        "media = ((nota1 + nota2 + nota3)/3)\n",
        "\n",
        "if media >= 7:\n",
        "  print('Sua média nas 3 matérias foi {}, parabéns você passou!' .format(media))\n",
        "else:\n",
        "  print('Sua média nas 3 matérias foi {}, você não passou' .format(media))  "
      ],
      "metadata": {
        "colab": {
          "base_uri": "https://localhost:8080/"
        },
        "id": "CJ3Whhxyk_HQ",
        "outputId": "33a5e6e8-c372-447e-89ec-28bd06d03d64"
      },
      "execution_count": 10,
      "outputs": [
        {
          "output_type": "stream",
          "name": "stdout",
          "text": [
            "Nota da matéria 1: 3\n",
            "Nota da matéria 2: 2\n",
            "Nota da matéria 3: 5\n",
            "Sua média nas 3 matérias foi 3.3333333333333335, você não passou\n"
          ]
        }
      ]
    },
    {
      "cell_type": "code",
      "source": [
        "#Código do professor:\n",
        "\n",
        "m1 = float(input('Nota da matéria 1: '))\n",
        "m2 = float(input('Nota da matéria 2: '))\n",
        "m3 = float(input('Nota da matéria 3: '))\n",
        "\n",
        "if m1 >= 7 and m2 >= 7 and m3 >= 7:\n",
        "  print('O aluno está aprovado!')\n",
        "else:\n",
        "  print('O aluno está reprovado!')  "
      ],
      "metadata": {
        "colab": {
          "base_uri": "https://localhost:8080/"
        },
        "id": "7z7d5VXimw8l",
        "outputId": "cddf9abb-fa65-4889-f20b-7c50287d9072"
      },
      "execution_count": 14,
      "outputs": [
        {
          "output_type": "stream",
          "name": "stdout",
          "text": [
            "Nota da matéria 1: 3\n",
            "Nota da matéria 2: 4\n",
            "Nota da matéria 3: 5\n",
            "O aluno está reprovado!\n"
          ]
        }
      ]
    },
    {
      "cell_type": "markdown",
      "source": [
        "# Condições aninhadas"
      ],
      "metadata": {
        "id": "iJ1VHmd9tLn3"
      }
    },
    {
      "cell_type": "markdown",
      "source": [
        "Exercício"
      ],
      "metadata": {
        "id": "B0M2iBSrtUy0"
      }
    },
    {
      "cell_type": "code",
      "source": [
        "print('Escolha oque deseja comprar:')\n",
        "print('1 - Maçã')\n",
        "print('2 - Laranja')\n",
        "print('3 - Banana')\n",
        "produto = int(input('Qual a sua escolha? '))\n",
        "\n",
        "qtd = int(input('Quantas unidades '))\n",
        "if (produto == 1):\n",
        "  pagar = produto * 2.3\n",
        "  print('Você comprou {} maças. Total a pagar {}' .format(qtd, pagar))\n",
        "else:\n",
        "  if (produto == 2):\n",
        "    pagar = produto * 3.6\n",
        "    print('Você comprou {} laranjas. Total a pagar {}' .format(qtd, pagar))\n",
        "  else: \n",
        "      if(produto == 3):\n",
        "        pagar = produto * 1.85\n",
        "        print('Você comprou {} bananas. Total a pagar {}' .format(qtd, pagar))\n",
        "      else:\n",
        "          print('Produto inexistente')\n",
        "      \n",
        "\n"
      ],
      "metadata": {
        "colab": {
          "base_uri": "https://localhost:8080/"
        },
        "id": "lRwnF_jetWUK",
        "outputId": "e7009d0f-7112-40a1-ce74-8ec12879a968"
      },
      "execution_count": 17,
      "outputs": [
        {
          "output_type": "stream",
          "name": "stdout",
          "text": [
            "Escolha oque deseja comprar:\n",
            "1 - Maçã\n",
            "2 - Laranja\n",
            "3 - Banana\n",
            "Qual a sua escolha? 4\n",
            "Quantas unidades 3\n",
            "Produto inexistente\n"
          ]
        }
      ]
    }
  ]
}